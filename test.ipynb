{
 "cells": [
  {
   "cell_type": "code",
   "execution_count": 1,
   "metadata": {},
   "outputs": [
    {
     "data": {
      "image/png": "[encoded data removed]",
      "text/plain": [
       "<Figure size 640x480 with 2 Axes>"
      ]
     },
     "metadata": {},
     "output_type": "display_data"
    }
   ],
   "source": [
    "import numpy as np\n",
    "import matplotlib.pyplot as plt\n",
    "\n",
    "matrix = np.zeros((18, 18))\n",
    "\n",
    "\n",
    "np.fill_diagonal(matrix, 1)\n",
    "for i in range(18):\n",
    "  matrix[i, :i] = 1\n",
    "\n",
    "# Display the matrix\n",
    "plt.imshow(matrix, cmap='binary', interpolation='nearest')\n",
    "plt.colorbar()\n",
    "plt.show()"
   ]
  },
  {
   "cell_type": "code",
   "execution_count": 7,
   "metadata": {},
   "outputs": [
    {
     "name": "stdout",
     "output_type": "stream",
     "text": [
      "102 [CLS]\n",
      "12402 Mehrere\n",
      "2856 Männer\n",
      "212 mit\n",
      "2708 Schutz\n",
      "3585 ##helm\n",
      "106 ##en\n",
      "19247 bedienen\n",
      "143 ein\n",
      "12384 Antrieb\n",
      "10450 ##sr\n",
      "5127 ##ads\n",
      "932 ##ystem\n",
      "566 .\n",
      "103 [SEP]\n",
      "0 [PAD]\n"
     ]
    }
   ],
   "source": [
    "from transformers import AutoTokenizer\n",
    "tokenizer = AutoTokenizer.from_pretrained(\"dbmdz/bert-base-german-cased\")\n",
    "\n",
    "ls = [102, 12402, 2856, 212, 2708, 3585, 106, 19247, 143, 12384, 10450, 5127, 932, 566, 103, 0]\n",
    "for ele in ls:\n",
    "    print(ele, tokenizer.convert_ids_to_tokens(ele))"
   ]
  },
  {
   "cell_type": "code",
   "execution_count": 8,
   "metadata": {},
   "outputs": [
    {
     "name": "stdout",
     "output_type": "stream",
     "text": [
      "101 [CLS]\n",
      "2195 several\n",
      "2273 men\n",
      "1999 in\n",
      "2524 hard\n",
      "16717 hats\n",
      "2024 are\n",
      "4082 operating\n",
      "1037 a\n",
      "5016 giant\n",
      "4139 pull\n",
      "3240 ##ey\n",
      "2291 system\n",
      "1012 .\n"
     ]
    }
   ],
   "source": [
    "from transformers import AutoTokenizer\n",
    "tokenizer = AutoTokenizer.from_pretrained(\"bert-base-uncased\")\n",
    "\n",
    "ls = [101, 2195, 2273, 1999, 2524, 16717, 2024, 4082, 1037, 5016, 4139, 3240, 2291, 1012]\n",
    "for ele in ls:\n",
    "    print(ele, tokenizer.convert_ids_to_tokens(ele))"
   ]
  },
  {
   "cell_type": "code",
   "execution_count": null,
   "metadata": {},
   "outputs": [],
   "source": [
    "\n"
   ]
  },
  {
   "cell_type": "code",
   "execution_count": null,
   "metadata": {},
   "outputs": [],
   "source": [
    "\n",
    "print(\"hi\")"
   ]
  },
  {
   "cell_type": "code",
   "execution_count": null,
   "metadata": {},
   "outputs": [],
   "source": []
  }
 ],
 "metadata": {
  "kernelspec": {
   "display_name": "Python 3",
   "language": "python",
   "name": "python3"
  },
  "language_info": {
   "codemirror_mode": {
    "name": "ipython",
    "version": 3
   },
   "file_extension": ".py",
   "mimetype": "text/x-python",
   "name": "python",
   "nbconvert_exporter": "python",
   "pygments_lexer": "ipython3",
   "version": "3.10.12"
  }
 },
 "nbformat": 4,
 "nbformat_minor": 2
}
